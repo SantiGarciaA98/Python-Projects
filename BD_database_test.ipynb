{
 "cells": [
  {
   "cell_type": "code",
   "execution_count": 2,
   "metadata": {},
   "outputs": [],
   "source": [
    "import pandas as pd\n",
    "import numpy as np"
   ]
  },
  {
   "cell_type": "code",
   "execution_count": 3,
   "metadata": {
    "scrolled": true
   },
   "outputs": [
    {
     "name": "stdout",
     "output_type": "stream",
     "text": [
      "   id transaccion fecha transaccion  Monto transaccion  id cliente\n",
      "0               1        2013-01-01              26770           5\n",
      "1               2        2018-06-01             731713          20\n",
      "2               3        2018-06-22             379746           1\n",
      "3               4        2015-04-19              31570           8\n",
      "4               5        2014-08-02             784803           5\n",
      "\n",
      "   id cliente     nombre genero fecha_nacimiento       pais\n",
      "0           1   Anderson      M       1988-11-16   Colombia\n",
      "1           2     Andres      M       1976-04-01  Venezuela\n",
      "2           3      Bryan      M       1986-04-03     Panama\n",
      "3           4     Carlos      M       1996-04-27     Mexico\n",
      "4           5  Cristhian      M       2006-04-12       Peru\n"
     ]
    }
   ],
   "source": [
    "BD_tran = pd.read_excel('BD.xlsx',sheet_name='transacciones')\n",
    "BD_clientes = pd.read_excel('BD.xlsx',sheet_name='clientes')\n",
    "print(BD_tran.head())\n",
    "print()\n",
    "print(BD_clientes.head())"
   ]
  },
  {
   "cell_type": "code",
   "execution_count": 4,
   "metadata": {},
   "outputs": [],
   "source": [
    "BD_tran=BD_tran.set_index('id cliente')\n",
    "BD_clientes = BD_clientes.set_index('id cliente')"
   ]
  },
  {
   "cell_type": "code",
   "execution_count": 5,
   "metadata": {},
   "outputs": [
    {
     "data": {
      "text/html": [
       "<div>\n",
       "<style scoped>\n",
       "    .dataframe tbody tr th:only-of-type {\n",
       "        vertical-align: middle;\n",
       "    }\n",
       "\n",
       "    .dataframe tbody tr th {\n",
       "        vertical-align: top;\n",
       "    }\n",
       "\n",
       "    .dataframe thead th {\n",
       "        text-align: right;\n",
       "    }\n",
       "</style>\n",
       "<table border=\"1\" class=\"dataframe\">\n",
       "  <thead>\n",
       "    <tr style=\"text-align: right;\">\n",
       "      <th></th>\n",
       "      <th>id transaccion</th>\n",
       "      <th>fecha transaccion</th>\n",
       "      <th>Monto transaccion</th>\n",
       "      <th>nombre</th>\n",
       "      <th>genero</th>\n",
       "      <th>fecha_nacimiento</th>\n",
       "      <th>pais</th>\n",
       "    </tr>\n",
       "    <tr>\n",
       "      <th>id cliente</th>\n",
       "      <th></th>\n",
       "      <th></th>\n",
       "      <th></th>\n",
       "      <th></th>\n",
       "      <th></th>\n",
       "      <th></th>\n",
       "      <th></th>\n",
       "    </tr>\n",
       "  </thead>\n",
       "  <tbody>\n",
       "    <tr>\n",
       "      <th>1</th>\n",
       "      <td>3</td>\n",
       "      <td>2018-06-22</td>\n",
       "      <td>379746</td>\n",
       "      <td>Anderson</td>\n",
       "      <td>M</td>\n",
       "      <td>1988-11-16</td>\n",
       "      <td>Colombia</td>\n",
       "    </tr>\n",
       "    <tr>\n",
       "      <th>1</th>\n",
       "      <td>8</td>\n",
       "      <td>2014-08-11</td>\n",
       "      <td>670848</td>\n",
       "      <td>Anderson</td>\n",
       "      <td>M</td>\n",
       "      <td>1988-11-16</td>\n",
       "      <td>Colombia</td>\n",
       "    </tr>\n",
       "    <tr>\n",
       "      <th>1</th>\n",
       "      <td>12</td>\n",
       "      <td>2019-05-23</td>\n",
       "      <td>536687</td>\n",
       "      <td>Anderson</td>\n",
       "      <td>M</td>\n",
       "      <td>1988-11-16</td>\n",
       "      <td>Colombia</td>\n",
       "    </tr>\n",
       "    <tr>\n",
       "      <th>1</th>\n",
       "      <td>14</td>\n",
       "      <td>2015-12-21</td>\n",
       "      <td>235278</td>\n",
       "      <td>Anderson</td>\n",
       "      <td>M</td>\n",
       "      <td>1988-11-16</td>\n",
       "      <td>Colombia</td>\n",
       "    </tr>\n",
       "    <tr>\n",
       "      <th>1</th>\n",
       "      <td>15</td>\n",
       "      <td>2019-04-27</td>\n",
       "      <td>365423</td>\n",
       "      <td>Anderson</td>\n",
       "      <td>M</td>\n",
       "      <td>1988-11-16</td>\n",
       "      <td>Colombia</td>\n",
       "    </tr>\n",
       "  </tbody>\n",
       "</table>\n",
       "</div>"
      ],
      "text/plain": [
       "            id transaccion fecha transaccion  Monto transaccion    nombre  \\\n",
       "id cliente                                                                  \n",
       "1                        3        2018-06-22             379746  Anderson   \n",
       "1                        8        2014-08-11             670848  Anderson   \n",
       "1                       12        2019-05-23             536687  Anderson   \n",
       "1                       14        2015-12-21             235278  Anderson   \n",
       "1                       15        2019-04-27             365423  Anderson   \n",
       "\n",
       "           genero fecha_nacimiento      pais  \n",
       "id cliente                                    \n",
       "1               M       1988-11-16  Colombia  \n",
       "1               M       1988-11-16  Colombia  \n",
       "1               M       1988-11-16  Colombia  \n",
       "1               M       1988-11-16  Colombia  \n",
       "1               M       1988-11-16  Colombia  "
      ]
     },
     "execution_count": 5,
     "metadata": {},
     "output_type": "execute_result"
    }
   ],
   "source": [
    "BD = pd.merge(BD_tran,BD_clientes,how='outer',left_index=True, right_index=True)\n",
    "BD.head()"
   ]
  },
  {
   "cell_type": "markdown",
   "metadata": {},
   "source": [
    "## Cliente que más transacciones tiene"
   ]
  },
  {
   "cell_type": "code",
   "execution_count": 127,
   "metadata": {},
   "outputs": [
    {
     "data": {
      "text/plain": [
       "'Daniel'"
      ]
     },
     "execution_count": 127,
     "metadata": {},
     "output_type": "execute_result"
    }
   ],
   "source": [
    "BD_mas_tran = BD.groupby('nombre').agg('id transaccion')\n",
    "BD_mas_tran.count().idxmax()"
   ]
  },
  {
   "cell_type": "markdown",
   "metadata": {},
   "source": [
    "## Cliente que más dinero ha gastado"
   ]
  },
  {
   "cell_type": "code",
   "execution_count": 131,
   "metadata": {},
   "outputs": [
    {
     "data": {
      "text/plain": [
       "Monto transaccion    Daniel\n",
       "dtype: object"
      ]
     },
     "execution_count": 131,
     "metadata": {},
     "output_type": "execute_result"
    }
   ],
   "source": [
    "BD_monto = BD.groupby('nombre').agg({'Monto transaccion': np.sum})\n",
    "BD_monto.idxmax()"
   ]
  },
  {
   "cell_type": "markdown",
   "metadata": {},
   "source": [
    "## Agrupación por genero y mostrar la cantidad de transacciones."
   ]
  },
  {
   "cell_type": "code",
   "execution_count": 102,
   "metadata": {},
   "outputs": [
    {
     "data": {
      "text/plain": [
       "genero\n",
       "F    1753\n",
       "M    3247\n",
       "Name: Cantidad transacciones, dtype: int64"
      ]
     },
     "execution_count": 102,
     "metadata": {},
     "output_type": "execute_result"
    }
   ],
   "source": [
    "BD_gen = BD.groupby('genero').count()\n",
    "pd.Series(BD_gen['Monto transaccion'],name='Cantidad transacciones')"
   ]
  },
  {
   "cell_type": "markdown",
   "metadata": {},
   "source": [
    "## Cliente con la transacción más alta"
   ]
  },
  {
   "cell_type": "code",
   "execution_count": 132,
   "metadata": {
    "scrolled": true
   },
   "outputs": [
    {
     "data": {
      "text/plain": [
       "Monto transaccion    Juan\n",
       "dtype: object"
      ]
     },
     "execution_count": 132,
     "metadata": {},
     "output_type": "execute_result"
    }
   ],
   "source": [
    "BD_monto = BD.groupby('nombre').agg({'Monto transaccion': np.max})\n",
    "BD_monto.idxmax()"
   ]
  },
  {
   "cell_type": "markdown",
   "metadata": {},
   "source": [
    "## País con más ventas en dinero"
   ]
  },
  {
   "cell_type": "code",
   "execution_count": 238,
   "metadata": {
    "scrolled": true
   },
   "outputs": [
    {
     "data": {
      "text/html": [
       "<div>\n",
       "<style scoped>\n",
       "    .dataframe tbody tr th:only-of-type {\n",
       "        vertical-align: middle;\n",
       "    }\n",
       "\n",
       "    .dataframe tbody tr th {\n",
       "        vertical-align: top;\n",
       "    }\n",
       "\n",
       "    .dataframe thead th {\n",
       "        text-align: right;\n",
       "    }\n",
       "</style>\n",
       "<table border=\"1\" class=\"dataframe\">\n",
       "  <thead>\n",
       "    <tr style=\"text-align: right;\">\n",
       "      <th></th>\n",
       "      <th>Monto transaccion</th>\n",
       "    </tr>\n",
       "    <tr>\n",
       "      <th>pais</th>\n",
       "      <th></th>\n",
       "    </tr>\n",
       "  </thead>\n",
       "  <tbody>\n",
       "    <tr>\n",
       "      <th>Argentina</th>\n",
       "      <td>103405261</td>\n",
       "    </tr>\n",
       "    <tr>\n",
       "      <th>Chile</th>\n",
       "      <td>315651605</td>\n",
       "    </tr>\n",
       "    <tr>\n",
       "      <th>Colombia</th>\n",
       "      <td>311088506</td>\n",
       "    </tr>\n",
       "    <tr>\n",
       "      <th>Ecuador</th>\n",
       "      <td>196506572</td>\n",
       "    </tr>\n",
       "    <tr>\n",
       "      <th>Mexico</th>\n",
       "      <td>227433292</td>\n",
       "    </tr>\n",
       "    <tr>\n",
       "      <th>Panama</th>\n",
       "      <td>303445731</td>\n",
       "    </tr>\n",
       "    <tr>\n",
       "      <th>Peru</th>\n",
       "      <td>391210573</td>\n",
       "    </tr>\n",
       "    <tr>\n",
       "      <th>Venezuela</th>\n",
       "      <td>202928247</td>\n",
       "    </tr>\n",
       "  </tbody>\n",
       "</table>\n",
       "</div>"
      ],
      "text/plain": [
       "           Monto transaccion\n",
       "pais                        \n",
       "Argentina          103405261\n",
       "Chile              315651605\n",
       "Colombia           311088506\n",
       "Ecuador            196506572\n",
       "Mexico             227433292\n",
       "Panama             303445731\n",
       "Peru               391210573\n",
       "Venezuela          202928247"
      ]
     },
     "execution_count": 238,
     "metadata": {},
     "output_type": "execute_result"
    }
   ],
   "source": [
    "BD_pais = BD[(BD['fecha transaccion']>='2018-03-01')&(BD['fecha transaccion']<='2019-11-30')]\n",
    "BD_pais = BD_pais.sort_values(by='fecha transaccion')\n",
    "BD_pais = BD.groupby('pais').agg({'Monto transaccion':np.sum})\n",
    "BD_pais"
   ]
  },
  {
   "cell_type": "markdown",
   "metadata": {},
   "source": [
    "## Top 5 de clientes con más transacciones"
   ]
  },
  {
   "cell_type": "code",
   "execution_count": 151,
   "metadata": {},
   "outputs": [
    {
     "data": {
      "text/plain": [
       "nombre\n",
       "Daniel     289\n",
       "Isaac      265\n",
       "Paula      262\n",
       "Tatiana    258\n",
       "Mario      256\n",
       "Name: id transaccion, dtype: int64"
      ]
     },
     "execution_count": 151,
     "metadata": {},
     "output_type": "execute_result"
    }
   ],
   "source": [
    "BD_top_5 = BD.groupby('nombre').agg('id transaccion')\n",
    "BD_top_5.count().sort_values(ascending=False)[:5]"
   ]
  },
  {
   "cell_type": "markdown",
   "metadata": {},
   "source": [
    "## Grafica de países y número de transacciones"
   ]
  },
  {
   "cell_type": "code",
   "execution_count": 207,
   "metadata": {},
   "outputs": [
    {
     "data": {
      "image/png": "[encoded data removed]",
      "text/plain": [
       "<Figure size 576x576 with 1 Axes>"
      ]
     },
     "metadata": {
      "needs_background": "light"
     },
     "output_type": "display_data"
    }
   ],
   "source": [
    "import matplotlib.pyplot as plt\n",
    "columnas = ['pais','id transaccion']\n",
    "BD_grafica = BD[columnas]\n",
    "BD_grafica = BD_grafica.groupby('pais').agg('id transaccion').count()\n",
    "BD_grafica = BD_grafica.reset_index()\n",
    "\n",
    "pais = BD_grafica['pais']\n",
    "transacciones = BD_grafica['id transaccion']\n",
    "plt.figure(figsize=(8,8))\n",
    "bar =plt.bar(pais,transacciones, color='orange')\n",
    "plt.ylabel('# Transacciones')\n",
    "plt.xlabel('País')\n",
    "plt.title('Número transacciones por país')\n",
    "\n",
    "plt.tick_params(bottom = False,left=False,labelleft=False)\n",
    "\n",
    "for spine in plt.gca().spines.values():\n",
    "    spine.set_visible(False)\n",
    "    \n",
    "for bars in bar:\n",
    "    plt.gca().text(bars.get_x() + bars.get_width()/2, bars.get_height()-40,str(int(bars.get_height())),\n",
    "                   ha='center', color='black', fontsize='14')"
   ]
  },
  {
   "cell_type": "markdown",
   "metadata": {},
   "source": [
    "## Gráfica de distibución edades de clientes"
   ]
  },
  {
   "cell_type": "code",
   "execution_count": 428,
   "metadata": {},
   "outputs": [
    {
     "data": {
      "image/png": "[encoded data removed]",
      "text/plain": [
       "<Figure size 1224x1224 with 1 Axes>"
      ]
     },
     "metadata": {
      "needs_background": "light"
     },
     "output_type": "display_data"
    }
   ],
   "source": [
    "from datetime import date\n",
    "hoy = date.today()\n",
    "año_hoy = hoy.year\n",
    "#año_hoy = int(año_hoy)\n",
    "BD_fecha_naci= BD.groupby('nombre').agg({'fecha_nacimiento':np.max})\n",
    "BD_fecha_naci['Año_actual'] = año_hoy\n",
    "separar = BD_fecha_naci['fecha_nacimiento'].astype('string').str[:4]\n",
    "BD_fecha_naci['nacimiento']=separar.astype('int')\n",
    "BD_fecha_naci = BD_fecha_naci.drop(columns='fecha_nacimiento')\n",
    "BD_fecha_naci = BD_fecha_naci['Año_actual'] - BD_fecha_naci['nacimiento']\n",
    "BD_fecha_naci = BD_fecha_naci.reset_index().rename(columns ={0:'edad'})\n",
    "\n",
    "cliente = BD_fecha_naci['nombre']\n",
    "edad = BD_fecha_naci['edad']\n",
    "\n",
    "plt.figure(figsize=(17,17))\n",
    "\n",
    "bar2=plt.bar(cliente,edad,color='darkblue')\n",
    "plt.ylabel('Edad',fontsize=15)\n",
    "plt.xlabel('Clientes',fontsize=15)\n",
    "plt.title('Distribución edades por clientes',fontsize=15)\n",
    "\n",
    "plt.tick_params(bottom = False,left=False,labelleft=False)\n",
    "\n",
    "for spine in plt.gca().spines.values():\n",
    "    spine.set_visible(False)\n",
    "    \n",
    "for bars in bar2:\n",
    "    plt.gca().text(bars.get_x() + bars.get_width()/2, bars.get_height()-5,str(int(bars.get_height())),\n",
    "                   ha='center', color='white', fontsize='14')"
   ]
  }
 ],
 "metadata": {
  "kernelspec": {
   "display_name": "Python 3",
   "language": "python",
   "name": "python3"
  },
  "language_info": {
   "codemirror_mode": {
    "name": "ipython",
    "version": 3
   },
   "file_extension": ".py",
   "mimetype": "text/x-python",
   "name": "python",
   "nbconvert_exporter": "python",
   "pygments_lexer": "ipython3",
   "version": "3.8.5"
  }
 },
 "nbformat": 4,
 "nbformat_minor": 4
}
