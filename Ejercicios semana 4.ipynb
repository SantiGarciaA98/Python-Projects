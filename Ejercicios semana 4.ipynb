{
 "cells": [
  {
   "cell_type": "code",
   "execution_count": 86,
   "metadata": {
    "scrolled": true
   },
   "outputs": [
    {
     "name": "stdout",
     "output_type": "stream",
     "text": [
      "En la lista hay repetidos\n",
      "Se repite el caracter [2, 1, 5, 67]\n"
     ]
    }
   ],
   "source": [
    "lista = [1,2,3,4,5,67,43,2,1,5,67]\n",
    "repetido = []\n",
    "unico = []\n",
    " \n",
    "for i in lista:\n",
    "    if i not in unico:\n",
    "        unico.append(i)\n",
    "    elif i not in repetido:\n",
    "        repetido.append(i)\n",
    "\n",
    "            \n",
    "if repetido == []:\n",
    "    print('No hay repetidos')\n",
    "    print('La lista es:',unico)\n",
    "else:\n",
    "    print('En la lista hay repetidos')\n",
    "    print('Se repite el caracter',repetido)"
   ]
  },
  {
   "cell_type": "code",
   "execution_count": 105,
   "metadata": {},
   "outputs": [
    {
     "name": "stdout",
     "output_type": "stream",
     "text": [
      "Hay varios elementos palíndromos\n",
      "Estos son: ['ana', '242']\n"
     ]
    }
   ],
   "source": [
    "a = ['ana','perro','242']\n",
    "unico=[]\n",
    "palindromo=[]\n",
    "for i in a:\n",
    "    for s in i:\n",
    "        s=list(s)\n",
    "    for j in reversed(i):\n",
    "        j=list(j)        \n",
    "    if not s==j:\n",
    "        unico.append(i)\n",
    "    else:\n",
    "        palindromo.append(i)\n",
    "\n",
    "if palindromo==[]:\n",
    "    print('No existen elementos palíndromos')\n",
    "    print('La lista es:',unico)\n",
    "elif len(palindromo) == 1:\n",
    "    print('Hay un elemento palíndromo'+'\\nEste es:',palindromo)\n",
    "else:\n",
    "    print('Hay varios elementos palíndromos'+'\\nEstos son:',palindromo)"
   ]
  },
  {
   "cell_type": "markdown",
   "metadata": {},
   "source": [
    "## Determinar si en una lista existe una cadena de caracteres que contiene 2 o más vocales."
   ]
  },
  {
   "cell_type": "code",
   "execution_count": 195,
   "metadata": {},
   "outputs": [
    {
     "name": "stdout",
     "output_type": "stream",
     "text": [
      "Existe\n",
      "No existe\n",
      "No existe\n"
     ]
    }
   ],
   "source": [
    "lista =['hola','pez','tos']\n",
    "vocales=['a','e','i','o','u']\n",
    "\n",
    "for i in lista:\n",
    "    contA=0\n",
    "    for h in vocales:\n",
    "        if h in i:\n",
    "            contA+=1\n",
    "    if contA >= 2:\n",
    "        print('Existe')\n",
    "    else:\n",
    "        print('No existe')    "
   ]
  },
  {
   "cell_type": "code",
   "execution_count": 8,
   "metadata": {},
   "outputs": [
    {
     "name": "stdout",
     "output_type": "stream",
     "text": [
      "El promedio es: 5\n"
     ]
    }
   ],
   "source": [
    "arr=[5,5]\n",
    "\n",
    "for i in arr:\n",
    "    i=i+i\n",
    "\n",
    "\n",
    "print('El promedio es:',int(i/len(arr)))"
   ]
  },
  {
   "cell_type": "code",
   "execution_count": 152,
   "metadata": {},
   "outputs": [
    {
     "name": "stdout",
     "output_type": "stream",
     "text": [
      "La matriz es mágica\n"
     ]
    }
   ],
   "source": [
    "matriz=[[2,7,6],[9,5,1],[4,3,8]]\n",
    "n=len(matriz)\n",
    "vacia=[]\n",
    "\n",
    "for i in matriz:\n",
    "    sumf=0\n",
    "    for j in i:\n",
    "        sumf+=j\n",
    "    for s in zip(*matriz):\n",
    "        sumc=0\n",
    "        for h in s:\n",
    "            sumc+=h\n",
    "\n",
    "\n",
    "if sumf == sumc:\n",
    "    print('La matriz es mágica')\n",
    "else:\n",
    "    print('La matriz NO es mágica')   "
   ]
  },
  {
   "cell_type": "code",
   "execution_count": 199,
   "metadata": {},
   "outputs": [
    {
     "name": "stdout",
     "output_type": "stream",
     "text": [
      "55\n"
     ]
    }
   ],
   "source": [
    "a=[1,2,3,4,5]\n",
    "b=[6,7,8,9,10]\n",
    "\n",
    "sumaA=0\n",
    "sumaB=0\n",
    "\n",
    "for i in a:\n",
    "    sumaA+=i\n",
    "for j in b:\n",
    "    sumaB+=j\n",
    "print(sumaA+sumaB)"
   ]
  },
  {
   "cell_type": "markdown",
   "metadata": {},
   "source": [
    "## Calcular el factorial de un número."
   ]
  },
  {
   "cell_type": "code",
   "execution_count": 50,
   "metadata": {},
   "outputs": [
    {
     "name": "stdout",
     "output_type": "stream",
     "text": [
      "Ingrese un número para calcular el factorial del mismo: 10\n",
      "El factorial de 10 es: 3628800\n"
     ]
    }
   ],
   "source": [
    "n=int(input('Ingrese un número para calcular el factorial del mismo: '))\n",
    "acum=1\n",
    "while n <0:\n",
    "    print('No es posible calcular el factorial.')\n",
    "    print('El valor debe ser entero positivo.')\n",
    "    n=int(input('Ingrese un número para calcular el factorial del mismo: '))\n",
    "    \n",
    "for i in range(n):\n",
    "    i=i+1\n",
    "    acum*=i\n",
    "\n",
    "print('El factorial de',n,'es:',acum)"
   ]
  }
 ],
 "metadata": {
  "kernelspec": {
   "display_name": "Python 3",
   "language": "python",
   "name": "python3"
  },
  "language_info": {
   "codemirror_mode": {
    "name": "ipython",
    "version": 3
   },
   "file_extension": ".py",
   "mimetype": "text/x-python",
   "name": "python",
   "nbconvert_exporter": "python",
   "pygments_lexer": "ipython3",
   "version": "3.8.5"
  }
 },
 "nbformat": 4,
 "nbformat_minor": 4
}
